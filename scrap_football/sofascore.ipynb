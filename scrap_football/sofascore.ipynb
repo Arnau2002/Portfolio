{
 "cells": [
  {
   "cell_type": "code",
   "execution_count": 1,
   "id": "95a1d022",
   "metadata": {},
   "outputs": [],
   "source": [
    "import LanusStats as ls  \n",
    "sofascore = ls.SofaScore()"
   ]
  },
  {
   "cell_type": "code",
   "execution_count": 2,
   "id": "fd317b56",
   "metadata": {},
   "outputs": [
    {
     "data": {
      "text/plain": [
       "'11906903'"
      ]
     },
     "execution_count": 2,
     "metadata": {},
     "output_type": "execute_result"
    }
   ],
   "source": [
    "sofascore.get_match_id('https://www.sofascore.com/es/football/match/napoli-fiorentina/Tdbsoeb#id:11906903')"
   ]
  },
  {
   "cell_type": "code",
   "execution_count": 4,
   "id": "59a2dc13",
   "metadata": {},
   "outputs": [
    {
     "data": {
      "text/plain": [
       "{'error': {'code': 403, 'reason': 'Forbidden'}}"
      ]
     },
     "execution_count": 4,
     "metadata": {},
     "output_type": "execute_result"
    }
   ],
   "source": [
    "sofascore.get_match_data('https://www.sofascore.com/es/football/match/celta-vigo-barcelona/rgbswgb#12437521')"
   ]
  },
  {
   "cell_type": "code",
   "execution_count": 6,
   "id": "69736469",
   "metadata": {},
   "outputs": [
    {
     "data": {
      "text/plain": [
       "{'error': {'code': 403, 'reason': 'Forbidden'}}"
      ]
     },
     "execution_count": 6,
     "metadata": {},
     "output_type": "execute_result"
    }
   ],
   "source": [
    "sofascore.get_lineups('https://www.sofascore.com/es/football/match/celta-vigo-barcelona/rgbswgb#id:12437521')"
   ]
  },
  {
   "cell_type": "code",
   "execution_count": null,
   "id": "b7d4f487",
   "metadata": {},
   "outputs": [],
   "source": []
  }
 ],
 "metadata": {
  "kernelspec": {
   "display_name": "Python 3",
   "language": "python",
   "name": "python3"
  },
  "language_info": {
   "codemirror_mode": {
    "name": "ipython",
    "version": 3
   },
   "file_extension": ".py",
   "mimetype": "text/x-python",
   "name": "python",
   "nbconvert_exporter": "python",
   "pygments_lexer": "ipython3",
   "version": "3.13.2"
  }
 },
 "nbformat": 4,
 "nbformat_minor": 5
}
