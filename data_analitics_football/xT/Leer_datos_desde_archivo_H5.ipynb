{
 "cells": [
  {
   "cell_type": "code",
   "execution_count": 1,
   "id": "20589af7-8bc3-49ca-9cc9-40d102ef3c6b",
   "metadata": {},
   "outputs": [],
   "source": [
    "import pandas as pd"
   ]
  },
  {
   "cell_type": "code",
   "execution_count": 2,
   "id": "32f9bba8-19e0-43f1-9cff-f1c23097647a",
   "metadata": {},
   "outputs": [],
   "source": [
    "\n",
    "spadl_h5 = \"C:\\\\Users\\\\Arnau Climent\\\\OneDrive\\\\Documentos\\\\1_MASTER\\\\PORTFOLIO\\\\futbol-data-visualizacion\\\\archivos\\\\spadl-statsbomb.h5\"\n",
    "spadlstore = pd.HDFStore(spadl_h5, 'r') # 'r' indica modo lectura"
   ]
  },
  {
   "cell_type": "code",
   "execution_count": 4,
   "id": "24c9f9a8-229e-4cff-8ef2-3ca3e083e62a",
   "metadata": {},
   "outputs": [
    {
     "data": {
      "text/plain": [
       "<class 'pandas.io.pytables.HDFStore'>\n",
       "File path: C:\\Users\\Arnau Climent\\OneDrive\\Documentos\\1_MASTER\\PORTFOLIO\\futbol-data-visualizacion\\archivos\\spadl-statsbomb.h5"
      ]
     },
     "execution_count": 4,
     "metadata": {},
     "output_type": "execute_result"
    }
   ],
   "source": [
    "\n",
    "spadlstore"
   ]
  },
  {
   "cell_type": "code",
   "execution_count": 5,
   "id": "d7c117c9-a4b5-4f3b-9675-02ae6e8ceb0b",
   "metadata": {},
   "outputs": [
    {
     "name": "stdout",
     "output_type": "stream",
     "text": [
      "    season_id  competition_id competition_name country_name  \\\n",
      "38         90              11          La Liga        Spain   \n",
      "\n",
      "   competition_gender season_name  \n",
      "38               male   2020/2021  \n",
      "   game_id  season_id  competition_id competition_stage  game_day  \\\n",
      "0  3773386         90              11    Regular Season         8   \n",
      "1  3773565         90              11    Regular Season        18   \n",
      "2  3773457         90              11    Regular Season        37   \n",
      "3  3773631         90              11    Regular Season        22   \n",
      "4  3773665         90              11    Regular Season        26   \n",
      "\n",
      "            game_date  home_team_id  away_team_id  home_score  away_score  \\\n",
      "0 2020-10-31 21:00:00           206           217           1           1   \n",
      "1 2021-01-09 18:30:00          1049           217           0           4   \n",
      "2 2021-05-16 18:30:00           217           209           1           2   \n",
      "3 2021-02-07 21:00:00           218           217           2           3   \n",
      "4 2021-03-06 21:00:00           422           217           0           2   \n",
      "\n",
      "                        venue                       referee competition_name  \\\n",
      "0     Estadio de Mendizorroza                           NaN          La Liga   \n",
      "1  Estadio Nuevo Los Cármenes  Ricardo De Burgos Bengoetxea          La Liga   \n",
      "2            Spotify Camp Nou                           NaN          La Liga   \n",
      "3   Estadio Benito Villamarín                           NaN          La Liga   \n",
      "4            Estadio El Sadar    Guillermo Cuadra Fernández          La Liga   \n",
      "\n",
      "  country_name competition_gender season_name    home_team_name away_team_name  \n",
      "0        Spain               male   2020/2021  Deportivo Alavés      Barcelona  \n",
      "1        Spain               male   2020/2021           Granada      Barcelona  \n",
      "2        Spain               male   2020/2021         Barcelona     Celta Vigo  \n",
      "3        Spain               male   2020/2021        Real Betis      Barcelona  \n",
      "4        Spain               male   2020/2021           Osasuna      Barcelona  \n",
      "   team_id         team_name\n",
      "0      206  Deportivo Alavés\n",
      "1      217         Barcelona\n",
      "0     1049           Granada\n",
      "1      209        Celta Vigo\n",
      "0      218        Real Betis\n",
      "   player_id                      player_name               nickname\n",
      "0       3093  Florian Grégoire Claude Lejeune                   None\n",
      "1       3265         José Luis Sanmartín Mato                 Joselu\n",
      "2       6612             Rubén Duarte Sánchez           Rubén Duarte\n",
      "3       6615        Víctor Laguardia Cisneros       Víctor Laguardia\n",
      "4       6618    Martín Aguirregabiria Padilla  Martín Aguirregabiria\n",
      "   player_id  game_id  team_id  is_starter  starting_position_id  \\\n",
      "0       3093  3773386      206        True                     5   \n",
      "1       3265  3773386      206       False                     0   \n",
      "2       6612  3773386      206        True                     6   \n",
      "3       6615  3773386      206        True                     3   \n",
      "4       6618  3773386      206       False                     0   \n",
      "\n",
      "  starting_position_name  minutes_played  \n",
      "0       Left Center Back              96  \n",
      "1             Substitute              38  \n",
      "2              Left Back              96  \n",
      "3      Right Center Back              96  \n",
      "4             Substitute              56  \n"
     ]
    }
   ],
   "source": [
    "# Cargar la información de las competiciones\n",
    "competitions_df = spadlstore['competitions']\n",
    "print(competitions_df.head())\n",
    "\n",
    "# Cargar la información de los partidos\n",
    "games_df = spadlstore['games']\n",
    "print(games_df.head())\n",
    "\n",
    "# Cargar la información de los equipos\n",
    "teams_df = spadlstore['teams']\n",
    "print(teams_df.head())\n",
    "\n",
    "# Cargar la información de los jugadores\n",
    "players_df = spadlstore['players']\n",
    "print(players_df.head())\n",
    "\n",
    "# Cargar la información de la participación de los jugadores en los partidos\n",
    "player_games_df = spadlstore['player_games']\n",
    "print(player_games_df.head())"
   ]
  },
  {
   "cell_type": "code",
   "execution_count": 8,
   "id": "a879d4be-4560-496b-b660-d5ee9501cffc",
   "metadata": {},
   "outputs": [
    {
     "name": "stdout",
     "output_type": "stream",
     "text": [
      "   game_id                     original_event_id  period_id  time_seconds  \\\n",
      "0  3773386  208f072d-cffa-4575-bd73-e9e9384c8fe1          1         0.689   \n",
      "1  3773386  e1f11e14-fb24-4c82-868f-507385122b9c          1         1.653   \n",
      "2  3773386  e5a0193d-1989-4c55-89e2-2f84c0a9ee7b          1         2.652   \n",
      "3  3773386  4d801bc4-907a-4474-9620-7c6ca2610ea7          1         5.344   \n",
      "4  3773386  9c9ef7ce-4d9d-4c9c-b5db-9c315e2947ed          1         6.608   \n",
      "\n",
      "   team_id  player_id  start_x  start_y    end_x   end_y  type_id  result_id  \\\n",
      "0      217     5487.0  52.0625   33.660  61.6875  38.165        0          1   \n",
      "1      217     5203.0  62.2125   37.740  64.2250  24.735        0          1   \n",
      "2      217     8118.0  64.2250   24.735  63.3500  24.735       21          1   \n",
      "3      217     8118.0  63.3500   24.735  74.3750  42.585        0          1   \n",
      "4      217     5213.0  74.3750   42.585  66.6750  42.245       21          1   \n",
      "\n",
      "   bodypart_id  action_id  \n",
      "0            4          0  \n",
      "1            5          1  \n",
      "2            0          2  \n",
      "3            5          3  \n",
      "4            0          4  \n"
     ]
    }
   ],
   "source": [
    "game_id_ejemplo = 3773386 # Reemplaza con el ID del partido que te interese\n",
    "actions_partido_df = spadlstore[f'actions/game_{game_id_ejemplo}']\n",
    "print(actions_partido_df.head())"
   ]
  },
  {
   "cell_type": "markdown",
   "id": "6c27b14e-82ee-44cf-afc6-838af33593e7",
   "metadata": {},
   "source": [
    "Cada fila de este DataFrame representa una acción individual que ocurrió durante el partido con ID 3773386. Las columnas proporcionan información detallada sobre cada acción:\n",
    "\n",
    "#### game_id: El identificador único del partido (en este caso, 3773386).\n",
    "\n",
    "original_event_id: El identificador único del evento tal como fue registrado por la fuente de datos original (StatsBomb en este caso).\n",
    "\n",
    "#### period_id: El período del partido en el que ocurrió la acción (1 para el primer tiempo, 2 para el segundo, etc.).\n",
    "\n",
    "time_seconds: El tiempo transcurrido en segundos desde el inicio del período en el que ocurrió la acción.\n",
    "\n",
    "#### team_id: El identificador único del equipo que realizó la acción. En este caso, todas las primeras acciones fueron realizadas por el equipo con team_id = 217.\n",
    "\n",
    "player_id: El identificador único del jugador que realizó la acción. Vemos diferentes player_ids a lo largo de las primeras acciones.\n",
    "\n",
    "#### start_x, start_y: Las coordenadas (en un sistema de coordenadas específico del proveedor de datos) del punto donde comenzó la acción.\n",
    "end_x, end_y: Las coordenadas del punto donde terminó la acción.\n",
    "#### type_id: El identificador del tipo de acción (por ejemplo, pase, tiro, falta, etc.). Necesitarás una tabla de mapeo para entender qué representa cada type_id.\n",
    "\n",
    "result_id: El identificador del resultado de la acción (por ejemplo, éxito, fallo, fuera de juego, etc.). También necesitarás una tabla de mapeo para interpretar estos IDs.\n",
    "\n",
    "#### bodypart_id: El identificador de la parte del cuerpo utilizada para realizar la acción (por ejemplo, pie derecho, pie izquierdo, cabeza, etc.). Se requiere una tabla de mapeo para su interpretación.\n",
    "\n",
    "action_id: Un identificador secuencial de la acción dentro del partido (empezando desde 0)."
   ]
  },
  {
   "cell_type": "code",
   "execution_count": null,
   "id": "e46e55e4-fb7a-4e6e-a730-dd7bfa596ab1",
   "metadata": {},
   "outputs": [],
   "source": []
  }
 ],
 "metadata": {
  "kernelspec": {
   "display_name": "Python 3 (ipykernel)",
   "language": "python",
   "name": "python3"
  },
  "language_info": {
   "codemirror_mode": {
    "name": "ipython",
    "version": 3
   },
   "file_extension": ".py",
   "mimetype": "text/x-python",
   "name": "python",
   "nbconvert_exporter": "python",
   "pygments_lexer": "ipython3",
   "version": "3.11.1"
  }
 },
 "nbformat": 4,
 "nbformat_minor": 5
}
